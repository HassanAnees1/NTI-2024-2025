{
  "nbformat": 4,
  "nbformat_minor": 0,
  "metadata": {
    "colab": {
      "provenance": []
    },
    "kernelspec": {
      "name": "python3",
      "display_name": "Python 3"
    },
    "language_info": {
      "name": "python"
    }
  },
  "cells": [
    {
      "cell_type": "code",
      "source": [
        "import pandas as pd\n",
        "from sklearn.model_selection import train_test_split\n",
        "from sklearn.linear_model import LinearRegression\n",
        "from sklearn.preprocessing import PolynomialFeatures, MinMaxScaler\n",
        "from sklearn.tree import DecisionTreeRegressor\n",
        "from sklearn.metrics import mean_squared_error, r2_score"
      ],
      "metadata": {
        "id": "Rf4xckuK1xTT"
      },
      "execution_count": 72,
      "outputs": []
    },
    {
      "cell_type": "code",
      "source": [
        "file_path = '/content/kc_house_data.csv'\n",
        "data = pd.read_csv(file_path)"
      ],
      "metadata": {
        "id": "viw10kyM1xwK"
      },
      "execution_count": 73,
      "outputs": []
    },
    {
      "cell_type": "code",
      "source": [
        "\n",
        "data = data.drop(['id', 'date', 'zipcode', 'lat', 'long'], axis=1)\n",
        "\n",
        "data.drop_duplicates(inplace=True)\n",
        "\n",
        "Q1 = data['price'].quantile(0.25)\n",
        "Q3 = data['price'].quantile(0.75)\n",
        "IQR = Q3 - Q1\n",
        "lower_bound = Q1 - 1.5 * IQR\n",
        "upper_bound = Q3 + 1.5 * IQR\n",
        "data = data[(data['price'] >= lower_bound) & (data['price'] <= upper_bound)]\n",
        "\n",
        "X = data.drop(['price'], axis=1)\n",
        "y = data['price']\n",
        "\n",
        "scaler = MinMaxScaler()\n",
        "X_scaled = scaler.fit_transform(X)\n",
        "\n",
        "X_train, X_test, y_train, y_test = train_test_split(X_scaled, y, test_size=0.2, random_state=42)\n"
      ],
      "metadata": {
        "id": "sIUzkOeW12WC"
      },
      "execution_count": 74,
      "outputs": []
    },
    {
      "cell_type": "code",
      "source": [
        "# Linear Regression\n",
        "linear_model = LinearRegression()\n",
        "linear_model.fit(X_train, y_train)\n",
        "y_pred_linear = linear_model.predict(X_test)\n",
        "linear_mse = mean_squared_error(y_test, y_pred_linear)\n",
        "linear_r2 = r2_score(y_test, y_pred_linear)"
      ],
      "metadata": {
        "id": "qkIMDDqs14Pi"
      },
      "execution_count": 75,
      "outputs": []
    },
    {
      "cell_type": "code",
      "source": [
        "# Polynomial Regression\n",
        "poly = PolynomialFeatures(degree=2)\n",
        "X_poly_train = poly.fit_transform(X_train)\n",
        "X_poly_test = poly.transform(X_test)\n",
        "poly_model = LinearRegression()\n",
        "poly_model.fit(X_poly_train, y_train)\n",
        "y_pred_poly = poly_model.predict(X_poly_test)\n",
        "poly_mse = mean_squared_error(y_test, y_pred_poly)\n",
        "poly_r2 = r2_score(y_test, y_pred_poly)"
      ],
      "metadata": {
        "id": "otwfMb6H15-C"
      },
      "execution_count": 76,
      "outputs": []
    },
    {
      "cell_type": "code",
      "source": [
        "# Decision Tree Regression\n",
        "tree_model = DecisionTreeRegressor(random_state=42)\n",
        "tree_model.fit(X_train, y_train)\n",
        "y_pred_tree = tree_model.predict(X_test)\n",
        "tree_mse = mean_squared_error(y_test, y_pred_tree)\n",
        "tree_r2 = r2_score(y_test, y_pred_tree)"
      ],
      "metadata": {
        "id": "b7x4wY1q17lC"
      },
      "execution_count": 77,
      "outputs": []
    },
    {
      "cell_type": "code",
      "source": [
        "print(\"Model Performance:\")\n",
        "print(f\"Linear Regression - MSE: {linear_mse:.2f}, R2: {linear_r2:.4f}\")\n",
        "print(f\"Polynomial Regression - MSE: {poly_mse:.2f}, R2: {poly_r2:.4f}\")\n",
        "print(f\"Decision Tree Regression - MSE: {tree_mse:.2f}, R2: {tree_r2:.4f}\")"
      ],
      "metadata": {
        "colab": {
          "base_uri": "https://localhost:8080/"
        },
        "id": "O3XmgUhr19KS",
        "outputId": "7dbf71ef-6ec0-4322-848c-7e1793368050"
      },
      "execution_count": 78,
      "outputs": [
        {
          "output_type": "stream",
          "name": "stdout",
          "text": [
            "Model Performance:\n",
            "Linear Regression - MSE: 18093690990.39, R2: 0.5759\n",
            "Polynomial Regression - MSE: 16633184210.97, R2: 0.6101\n",
            "Decision Tree Regression - MSE: 29005291171.75, R2: 0.3202\n"
          ]
        }
      ]
    }
  ]
}